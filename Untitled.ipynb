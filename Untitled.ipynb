{
 "cells": [
  {
   "cell_type": "code",
   "execution_count": 101,
   "id": "735284ab-14d7-49b3-81ad-a78169e96cde",
   "metadata": {},
   "outputs": [
    {
     "name": "stdout",
     "output_type": "stream",
     "text": [
      "Test\n"
     ]
    },
    {
     "name": "stdin",
     "output_type": "stream",
     "text": [
      " ······\n",
      ":> \n"
     ]
    },
    {
     "name": "stdout",
     "output_type": "stream",
     "text": [
      "\n"
     ]
    }
   ],
   "source": [
    "#!/usr/bin/env python\n",
    "import argparse\n",
    "import nbclient\n",
    "import nbformat\n",
    "import nbparameterise\n",
    "import sys\n",
    "\n",
    "\n",
    "old_stdout = sys.stdout\n",
    "\n",
    "with open('examples/UserInputTest.ipynb', 'rb') as f:\n",
    "    nb = nbformat.read(f, as_version=4)\n",
    "\n",
    "notebook_params = nbparameterise.extract_parameters(nb)\n",
    "\n",
    "parser = argparse.ArgumentParser(formatter_class=argparse.ArgumentDefaultsHelpFormatter)\n",
    "for item in notebook_params:\n",
    "    parser.add_argument(f'--{item.name}', nargs='?', default=item.value, type=item.type, help = f\"{item.comment if item.comment is not None else ''}  (default: %(default)s)\")\n",
    "\n",
    "args, unknown = parser.parse_known_args()\n",
    "new_params = nbparameterise.parameter_values(notebook_params,**vars(args))\n",
    "new_nb = nbparameterise.replace_definitions(nb, new_params)\n",
    "if new_nb['metadata']['kernalspec']['language']=='python':\n",
    "    for cell in new_nb['cells']:\n",
    "        if cell['cell_type'] =='code':\n",
    "                exec(cell['source'])\n"
   ]
  },
  {
   "cell_type": "code",
   "execution_count": 103,
   "id": "c4d2200a-a62d-4f46-a593-f797a70216e5",
   "metadata": {},
   "outputs": [
    {
     "data": {
      "text/plain": [
       "<module 'nbparameterise' from '/home/srudloff/.local/lib/python3.8/site-packages/nbparameterise/__init__.py'>"
      ]
     },
     "execution_count": 103,
     "metadata": {},
     "output_type": "execute_result"
    }
   ],
   "source": [
    "\n",
    "nbparameterise"
   ]
  },
  {
   "cell_type": "code",
   "execution_count": 107,
   "id": "15a64cc2-b3f4-4e54-8b0f-da31711c589b",
   "metadata": {},
   "outputs": [
    {
     "data": {
      "text/plain": [
       "{'cells': [{'cell_type': 'code',\n",
       "   'execution_count': None,\n",
       "   'id': '67bb7749-1741-4207-95ae-c52841f10aaf',\n",
       "   'metadata': {},\n",
       "   'outputs': [],\n",
       "   'source': 'name=\"\"'},\n",
       "  {'cell_type': 'code',\n",
       "   'execution_count': None,\n",
       "   'id': '2e7083b6-b0c6-4ad5-97aa-f166c219959a',\n",
       "   'metadata': {},\n",
       "   'outputs': [],\n",
       "   'source': 'print(\"Test\")'},\n",
       "  {'cell_type': 'code',\n",
       "   'execution_count': None,\n",
       "   'id': 'e5c27cef-9a0e-4482-b9db-0b3501af59bb',\n",
       "   'metadata': {},\n",
       "   'outputs': [],\n",
       "   'source': 'from getpass import getpass'},\n",
       "  {'cell_type': 'code',\n",
       "   'execution_count': None,\n",
       "   'id': 'f06f139e-f606-4b52-bc73-681e7cbb53a8',\n",
       "   'metadata': {},\n",
       "   'outputs': [],\n",
       "   'source': 'getpass()'},\n",
       "  {'cell_type': 'code',\n",
       "   'execution_count': None,\n",
       "   'id': '1dd26669-6b15-4ded-85a4-49b4b2217b62',\n",
       "   'metadata': {},\n",
       "   'outputs': [],\n",
       "   'source': 'test= input(\":>\")'},\n",
       "  {'cell_type': 'code',\n",
       "   'execution_count': None,\n",
       "   'id': '9973c767-61ba-4eab-b3eb-069318e85c8d',\n",
       "   'metadata': {},\n",
       "   'outputs': [],\n",
       "   'source': 'print(test)'}],\n",
       " 'metadata': {'kernelspec': {'display_name': 'Python 3 (ipykernel)',\n",
       "   'language': 'python',\n",
       "   'name': 'python3'},\n",
       "  'language_info': {'codemirror_mode': {'name': 'ipython', 'version': 3},\n",
       "   'file_extension': '.py',\n",
       "   'mimetype': 'text/x-python',\n",
       "   'name': 'python',\n",
       "   'nbconvert_exporter': 'python',\n",
       "   'pygments_lexer': 'ipython3',\n",
       "   'version': '3.8.10'}},\n",
       " 'nbformat': 4,\n",
       " 'nbformat_minor': 5}"
      ]
     },
     "execution_count": 107,
     "metadata": {},
     "output_type": "execute_result"
    }
   ],
   "source": [
    "nb"
   ]
  },
  {
   "cell_type": "code",
   "execution_count": null,
   "id": "e7fbb1cb-f865-47fe-9f17-83f858a52cdc",
   "metadata": {},
   "outputs": [],
   "source": []
  }
 ],
 "metadata": {
  "kernelspec": {
   "display_name": "Python 3 (ipykernel)",
   "language": "python",
   "name": "python3"
  },
  "language_info": {
   "codemirror_mode": {
    "name": "ipython",
    "version": 3
   },
   "file_extension": ".py",
   "mimetype": "text/x-python",
   "name": "python",
   "nbconvert_exporter": "python",
   "pygments_lexer": "ipython3",
   "version": "3.8.10"
  }
 },
 "nbformat": 4,
 "nbformat_minor": 5
}
