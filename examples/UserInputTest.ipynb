{
 "cells": [
  {
   "cell_type": "code",
   "execution_count": null,
   "id": "67bb7749-1741-4207-95ae-c52841f10aaf",
   "metadata": {},
   "outputs": [],
   "source": [
    "name=\"\""
   ]
  },
  {
   "cell_type": "code",
   "execution_count": null,
   "id": "2e7083b6-b0c6-4ad5-97aa-f166c219959a",
   "metadata": {},
   "outputs": [],
   "source": [
    "print(\"Test\")"
   ]
  },
  {
   "cell_type": "code",
   "execution_count": null,
   "id": "e5c27cef-9a0e-4482-b9db-0b3501af59bb",
   "metadata": {},
   "outputs": [],
   "source": [
    "from getpass import getpass"
   ]
  },
  {
   "cell_type": "code",
   "execution_count": null,
   "id": "f06f139e-f606-4b52-bc73-681e7cbb53a8",
   "metadata": {},
   "outputs": [],
   "source": [
    "getpass()"
   ]
  },
  {
   "cell_type": "code",
   "execution_count": null,
   "id": "1dd26669-6b15-4ded-85a4-49b4b2217b62",
   "metadata": {},
   "outputs": [],
   "source": [
    "test= input(\":>\")"
   ]
  },
  {
   "cell_type": "code",
   "execution_count": null,
   "id": "9973c767-61ba-4eab-b3eb-069318e85c8d",
   "metadata": {},
   "outputs": [],
   "source": [
    "print(test)"
   ]
  }
 ],
 "metadata": {
  "kernelspec": {
   "display_name": "Python 3 (ipykernel)",
   "language": "python",
   "name": "python3"
  },
  "language_info": {
   "codemirror_mode": {
    "name": "ipython",
    "version": 3
   },
   "file_extension": ".py",
   "mimetype": "text/x-python",
   "name": "python",
   "nbconvert_exporter": "python",
   "pygments_lexer": "ipython3",
   "version": "3.8.10"
  }
 },
 "nbformat": 4,
 "nbformat_minor": 5
}
