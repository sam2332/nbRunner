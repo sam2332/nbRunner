{
 "cells": [
  {
   "cell_type": "code",
   "execution_count": 8,
   "id": "6b74e5de-11ea-4c3f-96da-a023a4dc67e7",
   "metadata": {},
   "outputs": [],
   "source": [
    "import time"
   ]
  },
  {
   "cell_type": "code",
   "execution_count": 9,
   "id": "cf44144a-6fde-4fc3-9663-3e2e46259725",
   "metadata": {},
   "outputs": [],
   "source": [
    "letter=\"a\"\n",
    "wait=1"
   ]
  },
  {
   "cell_type": "code",
   "execution_count": 10,
   "id": "5dc1e873-b954-4b6e-83e7-5b6c30cbadd2",
   "metadata": {},
   "outputs": [
    {
     "name": "stdout",
     "output_type": "stream",
     "text": [
      "1\n",
      "1.1\n"
     ]
    }
   ],
   "source": [
    "print('1')\n",
    "time.sleep(wait)\n",
    "print('1.1')"
   ]
  },
  {
   "cell_type": "code",
   "execution_count": 11,
   "id": "e21f88e0-1086-4444-973b-c7074adc7859",
   "metadata": {},
   "outputs": [
    {
     "name": "stdout",
     "output_type": "stream",
     "text": [
      "2\n",
      "2.2\n"
     ]
    }
   ],
   "source": [
    "print('2')\n",
    "time.sleep(wait)\n",
    "print('2.2')"
   ]
  },
  {
   "cell_type": "code",
   "execution_count": 12,
   "id": "d259cb81-4a46-4588-b7dc-c08afd7b1ea4",
   "metadata": {},
   "outputs": [
    {
     "name": "stdout",
     "output_type": "stream",
     "text": [
      "3\n",
      "3.3\n"
     ]
    }
   ],
   "source": [
    "print('3')\n",
    "time.sleep(wait)\n",
    "print('3.3')"
   ]
  },
  {
   "cell_type": "code",
   "execution_count": null,
   "id": "47a944cc-2c30-44e7-8cf1-e1f833539e19",
   "metadata": {},
   "outputs": [],
   "source": []
  },
  {
   "cell_type": "code",
   "execution_count": null,
   "id": "bd3664d5-3fd7-4138-a1a9-efdee362b3ae",
   "metadata": {},
   "outputs": [],
   "source": []
  }
 ],
 "metadata": {
  "kernelspec": {
   "display_name": "Python 3 (ipykernel)",
   "language": "python",
   "name": "python3"
  },
  "language_info": {
   "codemirror_mode": {
    "name": "ipython",
    "version": 3
   },
   "file_extension": ".py",
   "mimetype": "text/x-python",
   "name": "python",
   "nbconvert_exporter": "python",
   "pygments_lexer": "ipython3",
   "version": "3.8.10"
  }
 },
 "nbformat": 4,
 "nbformat_minor": 5
}
