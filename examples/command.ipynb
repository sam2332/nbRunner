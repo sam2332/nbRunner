{
 "cells": [
  {
   "cell_type": "code",
   "execution_count": 47,
   "id": "010a51b3-4062-4ec6-bca2-e4b47a163846",
   "metadata": {},
   "outputs": [],
   "source": [
    "__cmd__=\"menu\"\n",
    "__subcmd__=\"\"\n",
    "oof=True\n",
    "size=['big','small','mega']\n",
    "mass=100\n",
    "percent =0.4\n",
    "name=\"\""
   ]
  },
  {
   "cell_type": "code",
   "execution_count": 48,
   "id": "90855f7b-3556-4413-a9ba-4463b5632b1b",
   "metadata": {},
   "outputs": [
    {
     "name": "stdout",
     "output_type": "stream",
     "text": [
      "\n"
     ]
    }
   ],
   "source": [
    "print('__cmd__', __cmd__)\n",
    "print('oof', oof)\n",
    "print('size', size)\n",
    "print('mass', mass)\n",
    "print('percent', percent)\n",
    "print('name', name)"
   ]
  },
  {
   "cell_type": "code",
   "execution_count": null,
   "id": "82b058f6-b6b0-484e-ba7f-128af379b22b",
   "metadata": {},
   "outputs": [],
   "source": []
  },
  {
   "cell_type": "code",
   "execution_count": null,
   "id": "2ca4eef1-0806-4e13-b29c-3cda57536edd",
   "metadata": {},
   "outputs": [],
   "source": []
  }
 ],
 "metadata": {
  "kernelspec": {
   "display_name": "Python 3 (ipykernel)",
   "language": "python",
   "name": "python3"
  },
  "language_info": {
   "codemirror_mode": {
    "name": "ipython",
    "version": 3
   },
   "file_extension": ".py",
   "mimetype": "text/x-python",
   "name": "python",
   "nbconvert_exporter": "python",
   "pygments_lexer": "ipython3",
   "version": "3.8.10"
  }
 },
 "nbformat": 4,
 "nbformat_minor": 5
}
