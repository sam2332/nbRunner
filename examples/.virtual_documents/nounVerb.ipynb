import sys


who = "Default"
verb = "does the Default"


print(f'{who} {verb}')
