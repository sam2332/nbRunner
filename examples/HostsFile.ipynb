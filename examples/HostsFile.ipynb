{
 "cells": [
  {
   "cell_type": "code",
   "execution_count": null,
   "id": "8ea5e1b4-f773-4d2c-8262-80f9a8767cea",
   "metadata": {},
   "outputs": [],
   "source": [
    "import re\n",
    "from collections import defaultdict\n",
    "import rich\n",
    "import sys"
   ]
  },
  {
   "cell_type": "code",
   "execution_count": null,
   "id": "f66ca34b-153b-4c55-a6c7-ac6771b95c9d",
   "metadata": {},
   "outputs": [],
   "source": [
    "__cmd__ = \"help\"\n",
    "hostname = \"\" #Hostname used when adding or removing\n",
    "dest = \"127.0.0.1\" #Destination ip for traffic that should come from hostname\n",
    "dry = True #Dry run will prevent /etc/hosts updates\n",
    "allowBypassOfDotLocalRestriction = False # By Default only allow override of domains ending in .local"
   ]
  },
  {
   "cell_type": "code",
   "execution_count": null,
   "id": "ba9a5d74-2efa-4fca-adde-21036e70f145",
   "metadata": {},
   "outputs": [],
   "source": [
    "def loadHosts():\n",
    "    try:\n",
    "        with open('/etc/hosts', 'r') as f:\n",
    "            data = f.read()\n",
    "            return data\n",
    "    except Exception as e:\n",
    "        print(e)"
   ]
  },
  {
   "cell_type": "code",
   "execution_count": null,
   "id": "06a812ef-6e44-4e09-9a39-a469aeaf9c46",
   "metadata": {},
   "outputs": [],
   "source": [
    "def parseHosts(data):\n",
    "    hosts = defaultdict(list)\n",
    "    for line in data.splitlines():\n",
    "        if line == '':\n",
    "            continue\n",
    "        dest, *split = re.split('\\\\s+', line)\n",
    "        if dest == '#':\n",
    "            continue\n",
    "        hosts[dest] += split\n",
    "    hosts = dict(hosts)\n",
    "    return hosts"
   ]
  },
  {
   "cell_type": "code",
   "execution_count": null,
   "id": "abc05598-0445-464f-9adb-bfff48a71201",
   "metadata": {},
   "outputs": [],
   "source": [
    "__cmd__ = __cmd__.lower()"
   ]
  },
  {
   "cell_type": "code",
   "execution_count": null,
   "id": "03210cbe-76c7-48d3-be84-0945d67604f8",
   "metadata": {},
   "outputs": [],
   "source": [
    "if __cmd__ not in ['list', 'add', 'remove']:\n",
    "    print(\"\"\"\n",
    "    Commands Include: help, list, add, remove\n",
    "    \"\"\")\n",
    "    sys.exit()"
   ]
  },
  {
   "cell_type": "code",
   "execution_count": null,
   "id": "d8e0efdc-2752-437c-9118-d228706ccd09",
   "metadata": {},
   "outputs": [],
   "source": [
    "if __cmd__ == \"list\":\n",
    "    hosts = parseHosts(loadHosts())\n",
    "    rich.print(hosts)\n",
    "    sys.exit()"
   ]
  },
  {
   "cell_type": "code",
   "execution_count": null,
   "id": "85387034-e989-4fff-9dde-7129b743db1e",
   "metadata": {},
   "outputs": [],
   "source": [
    "hostname = hostname.strip()\n",
    "if hostname == '':\n",
    "    print(\"Hostname Missing\")\n",
    "    sys.exit(1)"
   ]
  },
  {
   "cell_type": "code",
   "execution_count": null,
   "id": "4aca1275-82b4-46e5-ad81-5565b5af9bc6",
   "metadata": {},
   "outputs": [],
   "source": [
    "needs_write = False\n",
    "if not hostname.endswith('.local'):\n",
    "    if input(f'.local missing, update hostname to {hostname}.local; continue [Y/n]:').lower() != 'y':\n",
    "        if not allowBypassOfDotLocalRestriction:\n",
    "            print(\"Flag must be set to allow for bypass of local restrictions please check help\")\n",
    "            sys.exit()\n",
    "    else:\n",
    "        hostname += '.local'"
   ]
  },
  {
   "cell_type": "code",
   "execution_count": null,
   "id": "29a02e10-667e-4f43-bef9-668603ff787a",
   "metadata": {},
   "outputs": [],
   "source": [
    "if __cmd__ == \"add\":\n",
    "    if hostname == '':\n",
    "        print('you must supply a hostname to add a redirect')\n",
    "        sys.exit(1)\n",
    "    needs_write = True\n",
    "    hosts = parseHosts(loadHosts())\n",
    "    if hostname not in hosts[dest]:\n",
    "        hosts[dest].append(hostname)"
   ]
  },
  {
   "cell_type": "code",
   "execution_count": null,
   "id": "70a57d5b-9167-424a-9aa7-5a3823667c33",
   "metadata": {},
   "outputs": [],
   "source": [
    "if __cmd__ == \"remove\":\n",
    "    if hostname == '':\n",
    "        print('you must supply a hostname to remove a redirect')\n",
    "        sys.exit(1)\n",
    "    needs_write = True\n",
    "    hosts = parseHosts(loadHosts())\n",
    "    if hostname in hosts[dest]:\n",
    "        hosts[dest].remove(hostname)"
   ]
  },
  {
   "cell_type": "code",
   "execution_count": null,
   "id": "529788de-0b9c-49da-80a3-561a1c936629",
   "metadata": {},
   "outputs": [],
   "source": [
    "if dry and needs_write:\n",
    "    print(\"# PREVIEW (DRY RUN)\\n\")\n",
    "    for dest in hosts:\n",
    "        print(f\"{dest}\\t{' '.join(hosts[dest])}\")"
   ]
  },
  {
   "cell_type": "code",
   "execution_count": null,
   "id": "e210657c-3158-4373-bb0f-27cdd450facb",
   "metadata": {},
   "outputs": [],
   "source": [
    "if not dry:\n",
    "    if needs_write:\n",
    "        with open('/etc/hosts', 'w') as f:\n",
    "            for dest in hosts:\n",
    "                f.write(f\"{dest}\\t{' '.join(hosts[dest])}\\n\")"
   ]
  },
  {
   "cell_type": "code",
   "execution_count": null,
   "id": "491e00e5-a48b-470b-8de9-9da682c9304c",
   "metadata": {},
   "outputs": [],
   "source": []
  }
 ],
 "metadata": {
  "kernelspec": {
   "display_name": "Python 3 (ipykernel)",
   "language": "python",
   "name": "python3"
  },
  "language_info": {
   "codemirror_mode": {
    "name": "ipython",
    "version": 3
   },
   "file_extension": ".py",
   "mimetype": "text/x-python",
   "name": "python",
   "nbconvert_exporter": "python",
   "pygments_lexer": "ipython3",
   "version": "3.8.10"
  }
 },
 "nbformat": 4,
 "nbformat_minor": 5
}
