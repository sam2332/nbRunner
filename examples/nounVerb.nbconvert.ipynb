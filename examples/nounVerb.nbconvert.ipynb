{
 "cells": [
  {
   "cell_type": "code",
   "execution_count": 1,
   "id": "c4f1ccc6-cec5-4090-81d4-1a77d93b3147",
   "metadata": {
    "execution": {
     "iopub.execute_input": "2022-03-01T23:56:20.622824Z",
     "iopub.status.busy": "2022-03-01T23:56:20.621842Z",
     "iopub.status.idle": "2022-03-01T23:56:20.623794Z",
     "shell.execute_reply": "2022-03-01T23:56:20.624383Z"
    },
    "tags": []
   },
   "outputs": [],
   "source": [
    "import sys"
   ]
  },
  {
   "cell_type": "code",
   "execution_count": 2,
   "id": "fe61e06f-2fde-4421-8095-3885aea72d23",
   "metadata": {
    "execution": {
     "iopub.execute_input": "2022-03-01T23:56:20.630189Z",
     "iopub.status.busy": "2022-03-01T23:56:20.629406Z",
     "iopub.status.idle": "2022-03-01T23:56:20.631600Z",
     "shell.execute_reply": "2022-03-01T23:56:20.632120Z"
    },
    "tags": [
     "parameters"
    ]
   },
   "outputs": [],
   "source": [
    "who = \"Default\"\n",
    "verb = \"does the Default\""
   ]
  },
  {
   "cell_type": "code",
   "execution_count": 3,
   "id": "c515ab2d-6782-45aa-8571-196fb996e040",
   "metadata": {
    "execution": {
     "iopub.execute_input": "2022-03-01T23:56:20.637893Z",
     "iopub.status.busy": "2022-03-01T23:56:20.637164Z",
     "iopub.status.idle": "2022-03-01T23:56:20.640035Z",
     "shell.execute_reply": "2022-03-01T23:56:20.640562Z"
    }
   },
   "outputs": [
    {
     "name": "stdout",
     "output_type": "stream",
     "text": [
      "Default does the Default\n"
     ]
    }
   ],
   "source": [
    "print(f'{who} {verb}')"
   ]
  }
 ],
 "metadata": {
  "kernelspec": {
   "display_name": "Python 3 (ipykernel)",
   "language": "python",
   "name": "python3"
  },
  "language_info": {
   "codemirror_mode": {
    "name": "ipython",
    "version": 3
   },
   "file_extension": ".py",
   "mimetype": "text/x-python",
   "name": "python",
   "nbconvert_exporter": "python",
   "pygments_lexer": "ipython3",
   "version": "3.8.10"
  }
 },
 "nbformat": 4,
 "nbformat_minor": 5
}
